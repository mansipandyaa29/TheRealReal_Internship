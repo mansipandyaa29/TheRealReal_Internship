{
  "nbformat": 4,
  "nbformat_minor": 0,
  "metadata": {
    "colab": {
      "provenance": []
    },
    "kernelspec": {
      "name": "python3",
      "display_name": "Python 3"
    },
    "language_info": {
      "name": "python"
    }
  },
  "cells": [
    {
      "cell_type": "code",
      "execution_count": null,
      "metadata": {
        "colab": {
          "base_uri": "https://localhost:8080/"
        },
        "id": "LLprWO9scEbe",
        "outputId": "d8277306-36e8-4bfd-e5f9-1464e3b40cd9"
      },
      "outputs": [
        {
          "output_type": "stream",
          "name": "stdout",
          "text": [
            "Mounted at /content/drive\n"
          ]
        }
      ],
      "source": [
        "from google.colab import drive\n",
        "drive.mount('/content/drive')"
      ]
    },
    {
      "cell_type": "markdown",
      "source": [
        "##Importing all the relevant libraries"
      ],
      "metadata": {
        "id": "hpRlUAeoiaT-"
      }
    },
    {
      "cell_type": "code",
      "source": [
        "import pandas as pd\n",
        "import seaborn as sns\n",
        "import math\n",
        "import sys\n",
        "from numpy import mean\n",
        "from io import StringIO\n",
        "import numpy as np\n",
        "import matplotlib.pyplot as plt\n",
        "import statsmodels.api as sm\n",
        "from sklearn.datasets import make_classification\n",
        "from sklearn.model_selection import train_test_split\n",
        "from sklearn.metrics import f1_score, accuracy_score\n",
        "from sklearn.svm import OneClassSVM\n",
        "from sklearn.ensemble import ExtraTreesClassifier\n",
        "from sklearn.preprocessing import LabelEncoder\n",
        "from sklearn.preprocessing import StandardScaler\n",
        "from sklearn.utils import resample\n",
        "from sklearn.linear_model import LogisticRegression\n",
        "from sklearn.model_selection import cross_val_score\n",
        "from sklearn.model_selection import RepeatedStratifiedKFold\n",
        "from sklearn.model_selection import train_test_split\n",
        "from sklearn.ensemble import RandomForestClassifier\n",
        "from sklearn.datasets import make_classification\n",
        "from sklearn.ensemble import VotingClassifier\n",
        "from sklearn.naive_bayes import GaussianNB\n",
        "from sklearn.svm import SVC\n",
        "import warnings\n",
        "warnings.filterwarnings(\"ignore\")"
      ],
      "metadata": {
        "id": "3FkjnR5udnZS"
      },
      "execution_count": null,
      "outputs": []
    },
    {
      "cell_type": "markdown",
      "source": [
        "##Exploring the dataset"
      ],
      "metadata": {
        "id": "nieA8vY7tiA9"
      }
    },
    {
      "cell_type": "code",
      "source": [
        "df = pd.read_csv('/content/drive/MyDrive/TheRealReal/Therealreal.txt', sep=\",\")"
      ],
      "metadata": {
        "id": "n1bn1MGuduKu"
      },
      "execution_count": null,
      "outputs": []
    },
    {
      "cell_type": "code",
      "source": [
        "df.head()"
      ],
      "metadata": {
        "colab": {
          "base_uri": "https://localhost:8080/",
          "height": 204
        },
        "id": "VglnGuPRdw_S",
        "outputId": "11161764-3ffb-49bc-d0c8-0dd5f3250f34"
      },
      "execution_count": null,
      "outputs": [
        {
          "output_type": "execute_result",
          "data": {
            "text/html": [
              "\n",
              "  <div id=\"df-3f8486eb-2526-4818-8dab-bf450770614b\">\n",
              "    <div class=\"colab-df-container\">\n",
              "      <div>\n",
              "<style scoped>\n",
              "    .dataframe tbody tr th:only-of-type {\n",
              "        vertical-align: middle;\n",
              "    }\n",
              "\n",
              "    .dataframe tbody tr th {\n",
              "        vertical-align: top;\n",
              "    }\n",
              "\n",
              "    .dataframe thead th {\n",
              "        text-align: right;\n",
              "    }\n",
              "</style>\n",
              "<table border=\"1\" class=\"dataframe\">\n",
              "  <thead>\n",
              "    <tr style=\"text-align: right;\">\n",
              "      <th></th>\n",
              "      <th>date</th>\n",
              "      <th>device</th>\n",
              "      <th>failure</th>\n",
              "      <th>attribute1</th>\n",
              "      <th>attribute2</th>\n",
              "      <th>attribute3</th>\n",
              "      <th>attribute4</th>\n",
              "      <th>attribute5</th>\n",
              "      <th>attribute6</th>\n",
              "      <th>attribute7</th>\n",
              "      <th>attribute8</th>\n",
              "      <th>attribute9</th>\n",
              "    </tr>\n",
              "  </thead>\n",
              "  <tbody>\n",
              "    <tr>\n",
              "      <th>0</th>\n",
              "      <td>2015-01-01</td>\n",
              "      <td>S1F01085</td>\n",
              "      <td>0</td>\n",
              "      <td>215630672</td>\n",
              "      <td>56</td>\n",
              "      <td>0</td>\n",
              "      <td>52</td>\n",
              "      <td>6</td>\n",
              "      <td>407438</td>\n",
              "      <td>0</td>\n",
              "      <td>0</td>\n",
              "      <td>7</td>\n",
              "    </tr>\n",
              "    <tr>\n",
              "      <th>1</th>\n",
              "      <td>2015-01-01</td>\n",
              "      <td>S1F0166B</td>\n",
              "      <td>0</td>\n",
              "      <td>61370680</td>\n",
              "      <td>0</td>\n",
              "      <td>3</td>\n",
              "      <td>0</td>\n",
              "      <td>6</td>\n",
              "      <td>403174</td>\n",
              "      <td>0</td>\n",
              "      <td>0</td>\n",
              "      <td>0</td>\n",
              "    </tr>\n",
              "    <tr>\n",
              "      <th>2</th>\n",
              "      <td>2015-01-01</td>\n",
              "      <td>S1F01E6Y</td>\n",
              "      <td>0</td>\n",
              "      <td>173295968</td>\n",
              "      <td>0</td>\n",
              "      <td>0</td>\n",
              "      <td>0</td>\n",
              "      <td>12</td>\n",
              "      <td>237394</td>\n",
              "      <td>0</td>\n",
              "      <td>0</td>\n",
              "      <td>0</td>\n",
              "    </tr>\n",
              "    <tr>\n",
              "      <th>3</th>\n",
              "      <td>2015-01-01</td>\n",
              "      <td>S1F01JE0</td>\n",
              "      <td>0</td>\n",
              "      <td>79694024</td>\n",
              "      <td>0</td>\n",
              "      <td>0</td>\n",
              "      <td>0</td>\n",
              "      <td>6</td>\n",
              "      <td>410186</td>\n",
              "      <td>0</td>\n",
              "      <td>0</td>\n",
              "      <td>0</td>\n",
              "    </tr>\n",
              "    <tr>\n",
              "      <th>4</th>\n",
              "      <td>2015-01-01</td>\n",
              "      <td>S1F01R2B</td>\n",
              "      <td>0</td>\n",
              "      <td>135970480</td>\n",
              "      <td>0</td>\n",
              "      <td>0</td>\n",
              "      <td>0</td>\n",
              "      <td>15</td>\n",
              "      <td>313173</td>\n",
              "      <td>0</td>\n",
              "      <td>0</td>\n",
              "      <td>3</td>\n",
              "    </tr>\n",
              "  </tbody>\n",
              "</table>\n",
              "</div>\n",
              "      <button class=\"colab-df-convert\" onclick=\"convertToInteractive('df-3f8486eb-2526-4818-8dab-bf450770614b')\"\n",
              "              title=\"Convert this dataframe to an interactive table.\"\n",
              "              style=\"display:none;\">\n",
              "        \n",
              "  <svg xmlns=\"http://www.w3.org/2000/svg\" height=\"24px\"viewBox=\"0 0 24 24\"\n",
              "       width=\"24px\">\n",
              "    <path d=\"M0 0h24v24H0V0z\" fill=\"none\"/>\n",
              "    <path d=\"M18.56 5.44l.94 2.06.94-2.06 2.06-.94-2.06-.94-.94-2.06-.94 2.06-2.06.94zm-11 1L8.5 8.5l.94-2.06 2.06-.94-2.06-.94L8.5 2.5l-.94 2.06-2.06.94zm10 10l.94 2.06.94-2.06 2.06-.94-2.06-.94-.94-2.06-.94 2.06-2.06.94z\"/><path d=\"M17.41 7.96l-1.37-1.37c-.4-.4-.92-.59-1.43-.59-.52 0-1.04.2-1.43.59L10.3 9.45l-7.72 7.72c-.78.78-.78 2.05 0 2.83L4 21.41c.39.39.9.59 1.41.59.51 0 1.02-.2 1.41-.59l7.78-7.78 2.81-2.81c.8-.78.8-2.07 0-2.86zM5.41 20L4 18.59l7.72-7.72 1.47 1.35L5.41 20z\"/>\n",
              "  </svg>\n",
              "      </button>\n",
              "      \n",
              "  <style>\n",
              "    .colab-df-container {\n",
              "      display:flex;\n",
              "      flex-wrap:wrap;\n",
              "      gap: 12px;\n",
              "    }\n",
              "\n",
              "    .colab-df-convert {\n",
              "      background-color: #E8F0FE;\n",
              "      border: none;\n",
              "      border-radius: 50%;\n",
              "      cursor: pointer;\n",
              "      display: none;\n",
              "      fill: #1967D2;\n",
              "      height: 32px;\n",
              "      padding: 0 0 0 0;\n",
              "      width: 32px;\n",
              "    }\n",
              "\n",
              "    .colab-df-convert:hover {\n",
              "      background-color: #E2EBFA;\n",
              "      box-shadow: 0px 1px 2px rgba(60, 64, 67, 0.3), 0px 1px 3px 1px rgba(60, 64, 67, 0.15);\n",
              "      fill: #174EA6;\n",
              "    }\n",
              "\n",
              "    [theme=dark] .colab-df-convert {\n",
              "      background-color: #3B4455;\n",
              "      fill: #D2E3FC;\n",
              "    }\n",
              "\n",
              "    [theme=dark] .colab-df-convert:hover {\n",
              "      background-color: #434B5C;\n",
              "      box-shadow: 0px 1px 3px 1px rgba(0, 0, 0, 0.15);\n",
              "      filter: drop-shadow(0px 1px 2px rgba(0, 0, 0, 0.3));\n",
              "      fill: #FFFFFF;\n",
              "    }\n",
              "  </style>\n",
              "\n",
              "      <script>\n",
              "        const buttonEl =\n",
              "          document.querySelector('#df-3f8486eb-2526-4818-8dab-bf450770614b button.colab-df-convert');\n",
              "        buttonEl.style.display =\n",
              "          google.colab.kernel.accessAllowed ? 'block' : 'none';\n",
              "\n",
              "        async function convertToInteractive(key) {\n",
              "          const element = document.querySelector('#df-3f8486eb-2526-4818-8dab-bf450770614b');\n",
              "          const dataTable =\n",
              "            await google.colab.kernel.invokeFunction('convertToInteractive',\n",
              "                                                     [key], {});\n",
              "          if (!dataTable) return;\n",
              "\n",
              "          const docLinkHtml = 'Like what you see? Visit the ' +\n",
              "            '<a target=\"_blank\" href=https://colab.research.google.com/notebooks/data_table.ipynb>data table notebook</a>'\n",
              "            + ' to learn more about interactive tables.';\n",
              "          element.innerHTML = '';\n",
              "          dataTable['output_type'] = 'display_data';\n",
              "          await google.colab.output.renderOutput(dataTable, element);\n",
              "          const docLink = document.createElement('div');\n",
              "          docLink.innerHTML = docLinkHtml;\n",
              "          element.appendChild(docLink);\n",
              "        }\n",
              "      </script>\n",
              "    </div>\n",
              "  </div>\n",
              "  "
            ],
            "text/plain": [
              "         date    device  failure  attribute1  attribute2  attribute3  \\\n",
              "0  2015-01-01  S1F01085        0   215630672          56           0   \n",
              "1  2015-01-01  S1F0166B        0    61370680           0           3   \n",
              "2  2015-01-01  S1F01E6Y        0   173295968           0           0   \n",
              "3  2015-01-01  S1F01JE0        0    79694024           0           0   \n",
              "4  2015-01-01  S1F01R2B        0   135970480           0           0   \n",
              "\n",
              "   attribute4  attribute5  attribute6  attribute7  attribute8  attribute9  \n",
              "0          52           6      407438           0           0           7  \n",
              "1           0           6      403174           0           0           0  \n",
              "2           0          12      237394           0           0           0  \n",
              "3           0           6      410186           0           0           0  \n",
              "4           0          15      313173           0           0           3  "
            ]
          },
          "metadata": {},
          "execution_count": 8
        }
      ]
    },
    {
      "cell_type": "markdown",
      "source": [
        "deleting the date column because it doesnt contribute anything since theres no recurring corellation pattern between date and failure"
      ],
      "metadata": {
        "id": "eXJP77iotlyO"
      }
    },
    {
      "cell_type": "code",
      "source": [
        "df[['date','failure']].plot()\n",
        "del df['date']"
      ],
      "metadata": {
        "id": "s0EMRcpFglzJ",
        "colab": {
          "base_uri": "https://localhost:8080/",
          "height": 265
        },
        "outputId": "4961cf42-afbf-403e-f20d-2ce130591937"
      },
      "execution_count": null,
      "outputs": [
        {
          "output_type": "display_data",
          "data": {
            "image/png": "[encoded data removed]",
            "text/plain": [
              "<Figure size 432x288 with 1 Axes>"
            ]
          },
          "metadata": {
            "needs_background": "light"
          }
        }
      ]
    },
    {
      "cell_type": "code",
      "source": [
        "df['failure'].value_counts()"
      ],
      "metadata": {
        "colab": {
          "base_uri": "https://localhost:8080/"
        },
        "id": "4uHhIemgXuub",
        "outputId": "a79baa80-87d2-420a-abd1-19fdb7345683"
      },
      "execution_count": null,
      "outputs": [
        {
          "output_type": "execute_result",
          "data": {
            "text/plain": [
              "0    124388\n",
              "1       106\n",
              "Name: failure, dtype: int64"
            ]
          },
          "metadata": {},
          "execution_count": 14
        }
      ]
    },
    {
      "cell_type": "markdown",
      "source": [
        "We can't fit our model on the \"device\" column because it has categorical string values, so we perform Label Encoding on it"
      ],
      "metadata": {
        "id": "zVj7LAZFtv8z"
      }
    },
    {
      "cell_type": "code",
      "source": [
        "df['device'].value_counts()"
      ],
      "metadata": {
        "colab": {
          "base_uri": "https://localhost:8080/"
        },
        "id": "4S-GXW5guN-Z",
        "outputId": "84006eaf-886e-4fbe-d43a-a9649f2f7fc3"
      },
      "execution_count": null,
      "outputs": [
        {
          "output_type": "execute_result",
          "data": {
            "text/plain": [
              "85      304\n",
              "666     304\n",
              "972     304\n",
              "974     304\n",
              "975     304\n",
              "       ... \n",
              "1032      5\n",
              "1033      5\n",
              "893       5\n",
              "31        4\n",
              "730       3\n",
              "Name: device, Length: 1168, dtype: int64"
            ]
          },
          "metadata": {},
          "execution_count": 37
        }
      ]
    },
    {
      "cell_type": "code",
      "source": [
        "#Label Encoding of the device column\n",
        "gle = LabelEncoder()\n",
        "labels = gle.fit_transform(df['device'])\n",
        "genre_mappings = {index: label for index, label in enumerate(gle.classes_)}\n",
        "df['device'] = labels"
      ],
      "metadata": {
        "id": "w8-EmM6KguTJ"
      },
      "execution_count": null,
      "outputs": []
    },
    {
      "cell_type": "markdown",
      "source": [
        "## Metric Used for Evaluation\n",
        "The metric I've used for evaluation here is the F1 score because we have imbalanced classes and using accuracy in such casses would be redundant since the accuracy would be really high even if it made the same prediction for the entire dataset.\n",
        "\n",
        "I've also used Accuracy as an evaluation metric after upsampling the dataset."
      ],
      "metadata": {
        "id": "iSKdSaFKx3K3"
      }
    },
    {
      "cell_type": "markdown",
      "source": [
        "## Applying Basic Logistic Regression without Upsampling"
      ],
      "metadata": {
        "id": "j1Nr4m8juhbA"
      }
    },
    {
      "cell_type": "code",
      "source": [
        "#Splitting data into training 70% and test set 30%\n",
        "\n",
        "df_train, df_test = train_test_split(df, test_size=0.3, random_state=25)\n",
        "\n",
        "print(f\"No. of training examples: {df_train.shape[0]}\")\n",
        "print(f\"No. of testing examples: {df_test.shape[0]}\")"
      ],
      "metadata": {
        "colab": {
          "base_uri": "https://localhost:8080/"
        },
        "id": "6BQIoe22Rn2g",
        "outputId": "12a61a11-43ae-495f-ede5-7e66c20a1012"
      },
      "execution_count": null,
      "outputs": [
        {
          "output_type": "stream",
          "name": "stdout",
          "text": [
            "No. of training examples: 87145\n",
            "No. of testing examples: 37349\n"
          ]
        }
      ]
    },
    {
      "cell_type": "code",
      "source": [
        "X_train, y_train = df_train.drop('failure', axis=1), df_train.failure\n",
        "clf_0 = LogisticRegression().fit(X_train, y_train)\n",
        "\n",
        "#checking the performance of the model\n",
        "cv = RepeatedStratifiedKFold(n_splits=5, n_repeats=3, random_state=1)\n",
        "scores = cross_val_score(clf_0, X_train, y_train, scoring='f1', cv=cv, n_jobs=-1)\n",
        "print('Mean F1 Score: %.3f' % mean(scores))\n",
        "\n",
        "#Testing the Model\n",
        "X_test, y_test = df_test.drop('failure', axis=1),df_test.failure\n",
        "y_pred = clf_0.predict(X_test)\n",
        "\n",
        "#F1 score for X_test\n",
        "print(\"F1 score on test set:\",f1_score(np.array(y_test), y_pred))"
      ],
      "metadata": {
        "colab": {
          "base_uri": "https://localhost:8080/"
        },
        "id": "d98EUee2dzH2",
        "outputId": "28532a33-30c9-4fdd-a565-17d9f34bb652"
      },
      "execution_count": null,
      "outputs": [
        {
          "output_type": "stream",
          "name": "stdout",
          "text": [
            "Mean F1 Score: 0.016\n",
            "F1 score on test set: 0.0\n"
          ]
        }
      ]
    },
    {
      "cell_type": "markdown",
      "source": [
        "##Upsampling Data"
      ],
      "metadata": {
        "id": "9Aos3rTmxsLd"
      }
    },
    {
      "cell_type": "code",
      "source": [
        "#upsampling the data so both classes have equal number of examples\n",
        "df_majority = df[df.failure==0]\n",
        "df_minority = df[df.failure==1]\n",
        "df_minority_upsampled = resample(df_minority,replace=True,n_samples=124388,random_state=123)\n",
        "df_upsampled = pd.concat([df_majority, df_minority_upsampled])\n",
        "df_upsampled.failure.value_counts()"
      ],
      "metadata": {
        "colab": {
          "base_uri": "https://localhost:8080/"
        },
        "id": "B8r25D3lhJcR",
        "outputId": "43f98dd2-14d5-4be5-8c0d-762f2e286168"
      },
      "execution_count": null,
      "outputs": [
        {
          "output_type": "execute_result",
          "data": {
            "text/plain": [
              "0    124388\n",
              "1    124388\n",
              "Name: failure, dtype: int64"
            ]
          },
          "metadata": {},
          "execution_count": 10
        }
      ]
    },
    {
      "cell_type": "code",
      "source": [
        "df_upsampled"
      ],
      "metadata": {
        "colab": {
          "base_uri": "https://localhost:8080/",
          "height": 419
        },
        "id": "rzSY2d_GJTpi",
        "outputId": "962ea378-fc31-45f8-f4bd-73f9d92da10f"
      },
      "execution_count": null,
      "outputs": [
        {
          "output_type": "execute_result",
          "data": {
            "text/html": [
              "\n",
              "  <div id=\"df-2b12d299-4c16-4447-86da-a784196039dd\">\n",
              "    <div class=\"colab-df-container\">\n",
              "      <div>\n",
              "<style scoped>\n",
              "    .dataframe tbody tr th:only-of-type {\n",
              "        vertical-align: middle;\n",
              "    }\n",
              "\n",
              "    .dataframe tbody tr th {\n",
              "        vertical-align: top;\n",
              "    }\n",
              "\n",
              "    .dataframe thead th {\n",
              "        text-align: right;\n",
              "    }\n",
              "</style>\n",
              "<table border=\"1\" class=\"dataframe\">\n",
              "  <thead>\n",
              "    <tr style=\"text-align: right;\">\n",
              "      <th></th>\n",
              "      <th>device</th>\n",
              "      <th>failure</th>\n",
              "      <th>attribute1</th>\n",
              "      <th>attribute2</th>\n",
              "      <th>attribute3</th>\n",
              "      <th>attribute4</th>\n",
              "      <th>attribute5</th>\n",
              "      <th>attribute6</th>\n",
              "      <th>attribute7</th>\n",
              "      <th>attribute8</th>\n",
              "      <th>attribute9</th>\n",
              "    </tr>\n",
              "  </thead>\n",
              "  <tbody>\n",
              "    <tr>\n",
              "      <th>0</th>\n",
              "      <td>0</td>\n",
              "      <td>0</td>\n",
              "      <td>215630672</td>\n",
              "      <td>56</td>\n",
              "      <td>0</td>\n",
              "      <td>52</td>\n",
              "      <td>6</td>\n",
              "      <td>407438</td>\n",
              "      <td>0</td>\n",
              "      <td>0</td>\n",
              "      <td>7</td>\n",
              "    </tr>\n",
              "    <tr>\n",
              "      <th>1</th>\n",
              "      <td>2</td>\n",
              "      <td>0</td>\n",
              "      <td>61370680</td>\n",
              "      <td>0</td>\n",
              "      <td>3</td>\n",
              "      <td>0</td>\n",
              "      <td>6</td>\n",
              "      <td>403174</td>\n",
              "      <td>0</td>\n",
              "      <td>0</td>\n",
              "      <td>0</td>\n",
              "    </tr>\n",
              "    <tr>\n",
              "      <th>2</th>\n",
              "      <td>3</td>\n",
              "      <td>0</td>\n",
              "      <td>173295968</td>\n",
              "      <td>0</td>\n",
              "      <td>0</td>\n",
              "      <td>0</td>\n",
              "      <td>12</td>\n",
              "      <td>237394</td>\n",
              "      <td>0</td>\n",
              "      <td>0</td>\n",
              "      <td>0</td>\n",
              "    </tr>\n",
              "    <tr>\n",
              "      <th>3</th>\n",
              "      <td>4</td>\n",
              "      <td>0</td>\n",
              "      <td>79694024</td>\n",
              "      <td>0</td>\n",
              "      <td>0</td>\n",
              "      <td>0</td>\n",
              "      <td>6</td>\n",
              "      <td>410186</td>\n",
              "      <td>0</td>\n",
              "      <td>0</td>\n",
              "      <td>0</td>\n",
              "    </tr>\n",
              "    <tr>\n",
              "      <th>4</th>\n",
              "      <td>5</td>\n",
              "      <td>0</td>\n",
              "      <td>135970480</td>\n",
              "      <td>0</td>\n",
              "      <td>0</td>\n",
              "      <td>0</td>\n",
              "      <td>15</td>\n",
              "      <td>313173</td>\n",
              "      <td>0</td>\n",
              "      <td>0</td>\n",
              "      <td>3</td>\n",
              "    </tr>\n",
              "    <tr>\n",
              "      <th>...</th>\n",
              "      <td>...</td>\n",
              "      <td>...</td>\n",
              "      <td>...</td>\n",
              "      <td>...</td>\n",
              "      <td>...</td>\n",
              "      <td>...</td>\n",
              "      <td>...</td>\n",
              "      <td>...</td>\n",
              "      <td>...</td>\n",
              "      <td>...</td>\n",
              "      <td>...</td>\n",
              "    </tr>\n",
              "    <tr>\n",
              "      <th>27572</th>\n",
              "      <td>684</td>\n",
              "      <td>1</td>\n",
              "      <td>40958456</td>\n",
              "      <td>1320</td>\n",
              "      <td>0</td>\n",
              "      <td>2</td>\n",
              "      <td>37</td>\n",
              "      <td>277142</td>\n",
              "      <td>0</td>\n",
              "      <td>0</td>\n",
              "      <td>5</td>\n",
              "    </tr>\n",
              "    <tr>\n",
              "      <th>122118</th>\n",
              "      <td>113</td>\n",
              "      <td>1</td>\n",
              "      <td>13739704</td>\n",
              "      <td>0</td>\n",
              "      <td>0</td>\n",
              "      <td>18</td>\n",
              "      <td>8</td>\n",
              "      <td>343760</td>\n",
              "      <td>0</td>\n",
              "      <td>0</td>\n",
              "      <td>0</td>\n",
              "    </tr>\n",
              "    <tr>\n",
              "      <th>65670</th>\n",
              "      <td>886</td>\n",
              "      <td>1</td>\n",
              "      <td>180215128</td>\n",
              "      <td>2256</td>\n",
              "      <td>0</td>\n",
              "      <td>12</td>\n",
              "      <td>8</td>\n",
              "      <td>190301</td>\n",
              "      <td>32</td>\n",
              "      <td>32</td>\n",
              "      <td>0</td>\n",
              "    </tr>\n",
              "    <tr>\n",
              "      <th>27803</th>\n",
              "      <td>1046</td>\n",
              "      <td>1</td>\n",
              "      <td>167367224</td>\n",
              "      <td>0</td>\n",
              "      <td>0</td>\n",
              "      <td>0</td>\n",
              "      <td>12</td>\n",
              "      <td>326075</td>\n",
              "      <td>0</td>\n",
              "      <td>0</td>\n",
              "      <td>0</td>\n",
              "    </tr>\n",
              "    <tr>\n",
              "      <th>82927</th>\n",
              "      <td>533</td>\n",
              "      <td>1</td>\n",
              "      <td>80616240</td>\n",
              "      <td>27856</td>\n",
              "      <td>0</td>\n",
              "      <td>173</td>\n",
              "      <td>17</td>\n",
              "      <td>342856</td>\n",
              "      <td>0</td>\n",
              "      <td>0</td>\n",
              "      <td>5</td>\n",
              "    </tr>\n",
              "  </tbody>\n",
              "</table>\n",
              "<p>248776 rows × 11 columns</p>\n",
              "</div>\n",
              "      <button class=\"colab-df-convert\" onclick=\"convertToInteractive('df-2b12d299-4c16-4447-86da-a784196039dd')\"\n",
              "              title=\"Convert this dataframe to an interactive table.\"\n",
              "              style=\"display:none;\">\n",
              "        \n",
              "  <svg xmlns=\"http://www.w3.org/2000/svg\" height=\"24px\"viewBox=\"0 0 24 24\"\n",
              "       width=\"24px\">\n",
              "    <path d=\"M0 0h24v24H0V0z\" fill=\"none\"/>\n",
              "    <path d=\"M18.56 5.44l.94 2.06.94-2.06 2.06-.94-2.06-.94-.94-2.06-.94 2.06-2.06.94zm-11 1L8.5 8.5l.94-2.06 2.06-.94-2.06-.94L8.5 2.5l-.94 2.06-2.06.94zm10 10l.94 2.06.94-2.06 2.06-.94-2.06-.94-.94-2.06-.94 2.06-2.06.94z\"/><path d=\"M17.41 7.96l-1.37-1.37c-.4-.4-.92-.59-1.43-.59-.52 0-1.04.2-1.43.59L10.3 9.45l-7.72 7.72c-.78.78-.78 2.05 0 2.83L4 21.41c.39.39.9.59 1.41.59.51 0 1.02-.2 1.41-.59l7.78-7.78 2.81-2.81c.8-.78.8-2.07 0-2.86zM5.41 20L4 18.59l7.72-7.72 1.47 1.35L5.41 20z\"/>\n",
              "  </svg>\n",
              "      </button>\n",
              "      \n",
              "  <style>\n",
              "    .colab-df-container {\n",
              "      display:flex;\n",
              "      flex-wrap:wrap;\n",
              "      gap: 12px;\n",
              "    }\n",
              "\n",
              "    .colab-df-convert {\n",
              "      background-color: #E8F0FE;\n",
              "      border: none;\n",
              "      border-radius: 50%;\n",
              "      cursor: pointer;\n",
              "      display: none;\n",
              "      fill: #1967D2;\n",
              "      height: 32px;\n",
              "      padding: 0 0 0 0;\n",
              "      width: 32px;\n",
              "    }\n",
              "\n",
              "    .colab-df-convert:hover {\n",
              "      background-color: #E2EBFA;\n",
              "      box-shadow: 0px 1px 2px rgba(60, 64, 67, 0.3), 0px 1px 3px 1px rgba(60, 64, 67, 0.15);\n",
              "      fill: #174EA6;\n",
              "    }\n",
              "\n",
              "    [theme=dark] .colab-df-convert {\n",
              "      background-color: #3B4455;\n",
              "      fill: #D2E3FC;\n",
              "    }\n",
              "\n",
              "    [theme=dark] .colab-df-convert:hover {\n",
              "      background-color: #434B5C;\n",
              "      box-shadow: 0px 1px 3px 1px rgba(0, 0, 0, 0.15);\n",
              "      filter: drop-shadow(0px 1px 2px rgba(0, 0, 0, 0.3));\n",
              "      fill: #FFFFFF;\n",
              "    }\n",
              "  </style>\n",
              "\n",
              "      <script>\n",
              "        const buttonEl =\n",
              "          document.querySelector('#df-2b12d299-4c16-4447-86da-a784196039dd button.colab-df-convert');\n",
              "        buttonEl.style.display =\n",
              "          google.colab.kernel.accessAllowed ? 'block' : 'none';\n",
              "\n",
              "        async function convertToInteractive(key) {\n",
              "          const element = document.querySelector('#df-2b12d299-4c16-4447-86da-a784196039dd');\n",
              "          const dataTable =\n",
              "            await google.colab.kernel.invokeFunction('convertToInteractive',\n",
              "                                                     [key], {});\n",
              "          if (!dataTable) return;\n",
              "\n",
              "          const docLinkHtml = 'Like what you see? Visit the ' +\n",
              "            '<a target=\"_blank\" href=https://colab.research.google.com/notebooks/data_table.ipynb>data table notebook</a>'\n",
              "            + ' to learn more about interactive tables.';\n",
              "          element.innerHTML = '';\n",
              "          dataTable['output_type'] = 'display_data';\n",
              "          await google.colab.output.renderOutput(dataTable, element);\n",
              "          const docLink = document.createElement('div');\n",
              "          docLink.innerHTML = docLinkHtml;\n",
              "          element.appendChild(docLink);\n",
              "        }\n",
              "      </script>\n",
              "    </div>\n",
              "  </div>\n",
              "  "
            ],
            "text/plain": [
              "        device  failure  attribute1  attribute2  attribute3  attribute4  \\\n",
              "0            0        0   215630672          56           0          52   \n",
              "1            2        0    61370680           0           3           0   \n",
              "2            3        0   173295968           0           0           0   \n",
              "3            4        0    79694024           0           0           0   \n",
              "4            5        0   135970480           0           0           0   \n",
              "...        ...      ...         ...         ...         ...         ...   \n",
              "27572      684        1    40958456        1320           0           2   \n",
              "122118     113        1    13739704           0           0          18   \n",
              "65670      886        1   180215128        2256           0          12   \n",
              "27803     1046        1   167367224           0           0           0   \n",
              "82927      533        1    80616240       27856           0         173   \n",
              "\n",
              "        attribute5  attribute6  attribute7  attribute8  attribute9  \n",
              "0                6      407438           0           0           7  \n",
              "1                6      403174           0           0           0  \n",
              "2               12      237394           0           0           0  \n",
              "3                6      410186           0           0           0  \n",
              "4               15      313173           0           0           3  \n",
              "...            ...         ...         ...         ...         ...  \n",
              "27572           37      277142           0           0           5  \n",
              "122118           8      343760           0           0           0  \n",
              "65670            8      190301          32          32           0  \n",
              "27803           12      326075           0           0           0  \n",
              "82927           17      342856           0           0           5  \n",
              "\n",
              "[248776 rows x 11 columns]"
            ]
          },
          "metadata": {},
          "execution_count": 11
        }
      ]
    },
    {
      "cell_type": "markdown",
      "source": [
        "# Logistic Regression on Upsampled Data"
      ],
      "metadata": {
        "id": "Ftl-Z_6X0C1Y"
      }
    },
    {
      "cell_type": "code",
      "source": [
        "#Splitting data into training 70% and test set 30%\n",
        "\n",
        "df_upsampled_train, df_upsampled_test = train_test_split(df_upsampled, test_size=0.3, random_state=25)\n",
        "\n",
        "print(f\"No. of training examples: {df_upsampled_train.shape[0]}\")\n",
        "print(f\"No. of testing examples: {df_upsampled_test.shape[0]}\")"
      ],
      "metadata": {
        "colab": {
          "base_uri": "https://localhost:8080/"
        },
        "id": "nS5kpZBrVDgT",
        "outputId": "eda3306e-2b2f-430e-9cc9-7e8762f39f67"
      },
      "execution_count": null,
      "outputs": [
        {
          "output_type": "stream",
          "name": "stdout",
          "text": [
            "No. of training examples: 174143\n",
            "No. of testing examples: 74633\n"
          ]
        }
      ]
    },
    {
      "cell_type": "code",
      "source": [
        "#basic logistic with -> Labels Encoded and upsampling\n",
        "X_train, y_train = df_upsampled_train.drop('failure', axis=1), df_upsampled_train.failure\n",
        "clf_1 = LogisticRegression().fit(X_train, y_train)\n",
        "\n",
        "#checking the performance of the model\n",
        "cv = RepeatedStratifiedKFold(n_splits=5, n_repeats=3, random_state=1)\n",
        "scores = cross_val_score(clf_1, X_train, y_train, scoring='f1', cv=cv, n_jobs=-1)\n",
        "print('Mean F1 Score: %.3f' % mean(scores))\n",
        "\n",
        "#Testing the Model\n",
        "X_test, y_test = df_upsampled_test.drop('failure', axis=1),df_upsampled_test.failure\n",
        "y_pred = clf_1.predict(X_test)\n",
        "\n",
        "#F1 score for X_test\n",
        "print(\"F1 score on test set:\",f1_score(np.array(y_test), y_pred))\n",
        "print(\"Accuracy on test set:\", accuracy_score(np.array(y_test), y_pred)*100)"
      ],
      "metadata": {
        "colab": {
          "base_uri": "https://localhost:8080/"
        },
        "id": "6CZHJNG1g9Rr",
        "outputId": "c5c9da7b-804d-4b40-b63f-8f2ada943760"
      },
      "execution_count": null,
      "outputs": [
        {
          "output_type": "stream",
          "name": "stdout",
          "text": [
            "Mean F1 Score: 0.547\n",
            "F1 score on test set: 0.5440759992830255\n",
            "Accuracy on test set: 65.91856149424518\n"
          ]
        }
      ]
    },
    {
      "cell_type": "markdown",
      "source": [
        "# Logistic Regression on Scaled and Upsampled Data"
      ],
      "metadata": {
        "id": "_YjsHExn0SFh"
      }
    },
    {
      "cell_type": "code",
      "source": [
        "#Scaling the features except failure column\n",
        "df_scaled = df_upsampled.copy()\n",
        "col_names = ['attribute1','attribute2','attribute3','attribute4',\t'attribute5',\t'attribute6',\t'attribute7',\t'attribute8',\t'attribute9']\n",
        "features = df_scaled[col_names]\n",
        "scaler = StandardScaler().fit(features.values)\n",
        "features = scaler.transform(features.values)\n",
        "df_scaled[col_names] = features"
      ],
      "metadata": {
        "id": "PhtA7p8YhlNk"
      },
      "execution_count": null,
      "outputs": []
    },
    {
      "cell_type": "code",
      "source": [
        "df_scaled_train, df_scaled_test = train_test_split(df_scaled, test_size=0.3, random_state=25)\n",
        "\n",
        "print(f\"No. of training examples: {df_upsampled_train.shape[0]}\")\n",
        "print(f\"No. of testing examples: {df_upsampled_test.shape[0]}\")"
      ],
      "metadata": {
        "colab": {
          "base_uri": "https://localhost:8080/"
        },
        "id": "sMZBH0beu8S4",
        "outputId": "e0f7c874-cf5c-49c2-8936-ffbd1ea4a126"
      },
      "execution_count": null,
      "outputs": [
        {
          "output_type": "stream",
          "name": "stdout",
          "text": [
            "No. of training examples: 174143\n",
            "No. of testing examples: 74633\n"
          ]
        }
      ]
    },
    {
      "cell_type": "code",
      "source": [
        "#scaled all columns except failure and device + Simple Logistic Regression\n",
        "X_train, y_train = df_scaled_train.drop('failure', axis=1), df_scaled_train.failure\n",
        "clf_2 = LogisticRegression().fit(X_train, y_train)\n",
        "\n",
        "#checking the performance of the model\n",
        "cv = RepeatedStratifiedKFold(n_splits=5, n_repeats=3, random_state=1)\n",
        "scores = cross_val_score(clf_2, X_train, y_train, scoring='f1', cv=cv, n_jobs=-1)\n",
        "print('Mean F1 Score: %.3f' % mean(scores))\n",
        "\n",
        "#Testing the Model\n",
        "X_test, y_test = df_scaled_test.drop('failure', axis=1),df_scaled_test.failure\n",
        "y_pred = clf_2.predict(X_test)\n",
        "\n",
        "#F1 score for X_test\n",
        "print(\"F1 score on test set:\",f1_score(np.array(y_test), y_pred))\n",
        "print(\"Accuracy on test set:\", accuracy_score(np.array(y_test), y_pred)*100)"
      ],
      "metadata": {
        "colab": {
          "base_uri": "https://localhost:8080/"
        },
        "id": "TCXEsthoutm1",
        "outputId": "595d19e3-da70-4cc0-d1a7-8f0b2d99c8b2"
      },
      "execution_count": null,
      "outputs": [
        {
          "output_type": "stream",
          "name": "stdout",
          "text": [
            "Mean F1 Score: 0.725\n",
            "F1 score on test set: 0.7296538517713117\n",
            "Accuracy on test set: 77.67877480471105\n"
          ]
        }
      ]
    },
    {
      "cell_type": "markdown",
      "source": [
        "# Random Forest Classifier on Scaled and Upsampled Data"
      ],
      "metadata": {
        "id": "8Wb7t41r0bPM"
      }
    },
    {
      "cell_type": "code",
      "source": [
        "#scaled all columns except failure and device + Random Forest Classifier\n",
        "X_train, y_train = df_scaled_train.drop('failure', axis=1), df_scaled_train.failure\n",
        "clf_3= RandomForestClassifier(max_depth=2, random_state=0)\n",
        "clf_3.fit(X_train, y_train)\n",
        "\n",
        "#checking the performance of the model\n",
        "cv = RepeatedStratifiedKFold(n_splits=5, n_repeats=3, random_state=1)\n",
        "scores = cross_val_score(clf_3, X_train, y_train, scoring='f1', cv=cv, n_jobs=-1)\n",
        "print('Mean F1 Score: %.3f' % mean(scores))\n",
        "\n",
        "#Testing the Model\n",
        "X_test, y_test = df_scaled_test.drop('failure', axis=1),df_scaled_test.failure\n",
        "y_pred = clf_3.predict(X_test)\n",
        "\n",
        "#F1 score for X_test\n",
        "print(\"F1 score on test set:\",f1_score(np.array(y_test), y_pred))\n",
        "print(\"Accuracy on test set:\", accuracy_score(np.array(y_test), y_pred)*100)"
      ],
      "metadata": {
        "colab": {
          "base_uri": "https://localhost:8080/"
        },
        "id": "Mjsr61JM_MX3",
        "outputId": "aef443ba-e9e6-475d-f65b-eef92faad199"
      },
      "execution_count": null,
      "outputs": [
        {
          "output_type": "stream",
          "name": "stdout",
          "text": [
            "Mean F1 Score: 0.832\n",
            "F1 score on test set: 0.8310650096409621\n",
            "Accuracy on test set: 83.91730199777578\n"
          ]
        }
      ]
    },
    {
      "cell_type": "markdown",
      "source": [
        "# Logistic Regression + Random Forest Classifier on Scaled and Upsampled A.K.A Best Model"
      ],
      "metadata": {
        "id": "66DitaWz1koc"
      }
    },
    {
      "cell_type": "code",
      "source": [
        "from sklearn.ensemble import VotingClassifier\n",
        "from sklearn.naive_bayes import GaussianNB\n",
        "from sklearn.svm import SVC\n",
        "\n",
        "#scaled all columns except failure and device + Random Forest Classifier\n",
        "X_train, y_train = df_scaled_train.drop('failure', axis=1), df_scaled_train.failure\n",
        "clf1 = LogisticRegression(random_state=42)\n",
        "clf2 = RandomForestClassifier(random_state=42)\n",
        "\n",
        "eclf = VotingClassifier(estimators=[('LR', clf1), ('RF', clf2)],voting='soft', weights=[1,2])\n",
        "eclf.fit(X_train, y_train)\n",
        "\n",
        "#checking the performance of the model\n",
        "cv = RepeatedStratifiedKFold(n_splits=3, n_repeats=3, random_state=1)\n",
        "scores = cross_val_score(eclf, X_train, y_train, scoring='f1', cv=cv, n_jobs=-1)\n",
        "print('Mean F1 Score: %.3f' % mean(scores))\n",
        "\n",
        "#Testing the Model\n",
        "X_test, y_test = df_scaled_test.drop('failure', axis=1),df_scaled_test.failure\n",
        "y_pred = eclf.predict(X_test)\n",
        "\n",
        "#F1 score for X_test\n",
        "print(\"F1 score on test set:\",f1_score(np.array(y_test), y_pred))\n",
        "print(\"Accuracy on test set:\", accuracy_score(np.array(y_test), y_pred)*100)"
      ],
      "metadata": {
        "colab": {
          "base_uri": "https://localhost:8080/"
        },
        "id": "U4x0ke7HKvf7",
        "outputId": "decf0489-f534-441b-af70-f26bf18c0b43"
      },
      "execution_count": null,
      "outputs": [
        {
          "output_type": "stream",
          "name": "stdout",
          "text": [
            "Mean F1 Score: 0.999\n",
            "F1 score on test set: 0.9997053860781531\n",
            "Accuracy on test set: 99.97052242305683\n"
          ]
        }
      ]
    },
    {
      "cell_type": "markdown",
      "source": [
        "# THEREALREAL.PY"
      ],
      "metadata": {
        "id": "zXInU3lPtOux"
      }
    },
    {
      "cell_type": "code",
      "source": [
        "class TheRealReal_Model():\n",
        "  def __init__(self, train_path, test_path):\n",
        "    self.df_train = pd.read_csv(train_path, sep=\",\")\n",
        "    self.df_test = pd.read_csv(test_path, sep=\",\")\n",
        "\n",
        "  def preprocess_train(self):\n",
        "    #deleting date column\n",
        "    del self.df_train['date']\n",
        "\n",
        "    #Label Encoding\n",
        "    gle = LabelEncoder()\n",
        "    labels = gle.fit_transform(self.df_train['device'])\n",
        "    genre_mappings = {index: label for index, label in enumerate(gle.classes_)}\n",
        "    self.df_train['device'] = labels\n",
        "\n",
        "    #Upsampling if class imbalance exists\n",
        "    if self.df_train['failure'].value_counts()[0] > 2 * self.df_train['failure'].value_counts()[1]:\n",
        "      majority = 0\n",
        "      minority = 1\n",
        "    elif self.df_train['failure'].value_counts()[1] > 2 * self.df_train['failure'].value_counts()[0]:\n",
        "      majority = 1\n",
        "      minority = 0\n",
        "    df_majority = self.df_train[self.df_train.failure == majority]\n",
        "    df_minority = self.df_train[self.df_train.failure == minority]\n",
        "    df_minority_upsampled = resample(df_minority,replace=True,n_samples=self.df_train['failure'].value_counts()[majority],random_state=123)\n",
        "    df_upsampled = pd.concat([df_majority, df_minority_upsampled])\n",
        "\n",
        "    #Scaling Data\n",
        "    df_scaled_train = df_upsampled.copy()\n",
        "    col_names = ['attribute1','attribute2','attribute3','attribute4',\t'attribute5',\t'attribute6',\t'attribute7',\t'attribute8',\t'attribute9']\n",
        "    features = df_scaled_train[col_names]\n",
        "    scaler = StandardScaler().fit(features.values)\n",
        "    features = scaler.transform(features.values)\n",
        "    df_scaled_train[col_names] = features\n",
        "\n",
        "    return df_scaled_train\n",
        "\n",
        "  def preprocess_test(self):\n",
        "    #deleting date column\n",
        "    del self.df_test['date']\n",
        "\n",
        "    #Label Encoding\n",
        "    gle = LabelEncoder()\n",
        "    labels = gle.fit_transform(self.df_test['device'])\n",
        "    genre_mappings = {index: label for index, label in enumerate(gle.classes_)}\n",
        "    self.df_test['device'] = labels\n",
        "\n",
        "    #Scaling Data\n",
        "    df_scaled_test = self.df_test.copy()\n",
        "    col_names = ['attribute1','attribute2','attribute3','attribute4',\t'attribute5',\t'attribute6',\t'attribute7',\t'attribute8',\t'attribute9']\n",
        "    features = df_scaled_test[col_names]\n",
        "    scaler = StandardScaler().fit(features.values)\n",
        "    features = scaler.transform(features.values)\n",
        "    df_scaled_test[col_names] = features\n",
        "\n",
        "    return df_scaled_test\n",
        "\n",
        "  def train_function(self):\n",
        "\n",
        "    df_scaled = self.preprocess_train()\n",
        "\n",
        "    X_train, y_train = df_scaled.drop('failure', axis=1), df_scaled.failure\n",
        "\n",
        "    clf1 = LogisticRegression(random_state=42)\n",
        "    clf2 = RandomForestClassifier(random_state=42)\n",
        "\n",
        "    self.eclf = VotingClassifier(estimators=[('LR', clf1), ('RF', clf2)],voting='soft', weights=[1,2])\n",
        "    self.eclf.fit(X_train, y_train)\n",
        "\n",
        "    #checking the performance of the model\n",
        "    cv = RepeatedStratifiedKFold(n_splits=3, n_repeats=3, random_state=1)\n",
        "    scores = cross_val_score(self.eclf, X_train, y_train, scoring='f1', cv=cv, n_jobs=-1)\n",
        "    print('Mean F1 Score: %.3f' % mean(scores))\n",
        "\n",
        "  def test_function(self):\n",
        "\n",
        "    df_scaled_test = self.preprocess_test()\n",
        "\n",
        "    #Testing the Model\n",
        "    X_test = df_scaled_test\n",
        "    y_pred = self.eclf.predict(X_test)\n",
        "\n",
        "    self.df_test['predictions'] = y_pred\n",
        "    self.df_test.to_csv('predictions.csv')\n",
        "\n",
        "  def fit_and_predict_data(self):\n",
        "    self.train_function()\n",
        "    self.test_function()\n"
      ],
      "metadata": {
        "id": "d0vpL-zB1wDq"
      },
      "execution_count": null,
      "outputs": []
    }
  ]
}